{
 "cells": [
  {
   "cell_type": "markdown",
   "id": "1fdb4ea8",
   "metadata": {},
   "source": [
    "## ML FLow Tracking Server"
   ]
  },
  {
   "cell_type": "code",
   "execution_count": 1,
   "id": "ea961e43",
   "metadata": {},
   "outputs": [],
   "source": [
    "import mlflow"
   ]
  },
  {
   "cell_type": "code",
   "execution_count": 2,
   "metadata": {},
   "outputs": [],
   "source": [
    "# import mlflow\n",
    "# mlflow.start_run()\n",
    "# mlflow.log_param(\"test\", 123)"
   ]
  },
  {
   "cell_type": "code",
   "execution_count": 3,
   "id": "0cc27891",
   "metadata": {},
   "outputs": [],
   "source": [
    "mlflow.set_tracking_uri(\"http://127.0.0.1:5000\")"
   ]
  },
  {
   "cell_type": "code",
   "execution_count": 4,
   "id": "cecf4584",
   "metadata": {},
   "outputs": [
    {
     "name": "stderr",
     "output_type": "stream",
     "text": [
      "2025/06/04 06:56:27 INFO mlflow.tracking.fluent: Experiment with name 'check local host connection' does not exist. Creating a new experiment.\n"
     ]
    },
    {
     "name": "stdout",
     "output_type": "stream",
     "text": [
      "🏃 View run gifted-lamb-427 at: http://127.0.0.1:5000/#/experiments/996485825557340361/runs/56e04a968b36415bb94cd515a8b97892\n",
      "🧪 View experiment at: http://127.0.0.1:5000/#/experiments/996485825557340361\n"
     ]
    }
   ],
   "source": [
    "# End any existing run\n",
    "if mlflow.active_run():\n",
    "    mlflow.end_run()\n",
    "\n",
    "mlflow.set_experiment(\"check local host connection\")\n",
    "\n",
    "with mlflow.start_run():\n",
    "    mlflow.log_metric(\"test\",1)\n",
    "    mlflow.log_metric(\"krish\",2)"
   ]
  },
  {
   "cell_type": "code",
   "execution_count": 5,
   "id": "9abbca0a",
   "metadata": {},
   "outputs": [
    {
     "name": "stdout",
     "output_type": "stream",
     "text": [
      "🏃 View run colorful-lamb-12 at: http://127.0.0.1:5000/#/experiments/996485825557340361/runs/564cf5008f614d5cb8e4b77ba5b4a3df\n",
      "🧪 View experiment at: http://127.0.0.1:5000/#/experiments/996485825557340361\n"
     ]
    }
   ],
   "source": [
    "with mlflow.start_run():\n",
    "    mlflow.log_metric(\"test1\",1)\n",
    "    mlflow.log_metric(\"krish1\",2)"
   ]
  },
  {
   "cell_type": "code",
   "execution_count": 6,
   "id": "c95ac7d1",
   "metadata": {},
   "outputs": [
    {
     "name": "stdout",
     "output_type": "stream",
     "text": [
      "🏃 View run ambitious-eel-612 at: http://127.0.0.1:5000/#/experiments/996485825557340361/runs/ca4eedcb4e284e6eacb337fa7c73b568\n",
      "🧪 View experiment at: http://127.0.0.1:5000/#/experiments/996485825557340361\n"
     ]
    }
   ],
   "source": [
    "with mlflow.start_run():\n",
    "    mlflow.log_metric(\"test2\",1)\n",
    "    mlflow.log_metric(\"krish2\",2)"
   ]
  }
 ],
 "metadata": {
  "kernelspec": {
   "display_name": "testenv",
   "language": "python",
   "name": "python3"
  },
  "language_info": {
   "codemirror_mode": {
    "name": "ipython",
    "version": 3
   },
   "file_extension": ".py",
   "mimetype": "text/x-python",
   "name": "python",
   "nbconvert_exporter": "python",
   "pygments_lexer": "ipython3",
   "version": "3.10.16"
  }
 },
 "nbformat": 4,
 "nbformat_minor": 5
}
